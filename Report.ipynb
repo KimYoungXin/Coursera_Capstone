{
    "cells": [
        {
            "cell_type": "markdown",
            "metadata": {
                "collapsed": true
            },
            "source": "# Report: Chose best location for new Xi'an Famous Food branch"
        },
        {
            "cell_type": "markdown",
            "metadata": {},
            "source": "## Introduction"
        },
        {
            "cell_type": "markdown",
            "metadata": {},
            "source": "**Description of the problem** Find best location in New York to open a new branch of Xi'an Famous Foods.The owners of Xi'an Famous Foods wants to open a new branch. \n\nThey provided **10 potential locations**. Price for rental is not their concern. They consider transportation as the most important factor. \n\nRequirements:\n1. Customers should walk to Xi'an Famous Foods within **5 minutes from public transport facilities**. \n2. The new branch should have **at least 500 m distance away from existing ones**. \n\n**Background** Xi'an Famous Food began as a 200 square foot basement stall in the Golden Shopping Mall in Flushing, N.Y. The original location, established in late 2005, was the first restaurant to bring the little-known cuisine of Xi\u2019an to the United States, with signature hand-ripped noodles, secret spice mixes, and Xi\u2019an \u201cburgers\u201d with housemade flatbread. Since then, we\u2019ve expanded to multiple locations in New York\u2019s Manhattan, Brooklyn, and Queens boroughs. [1]"
        },
        {
            "cell_type": "markdown",
            "metadata": {},
            "source": "## Data"
        },
        {
            "cell_type": "markdown",
            "metadata": {},
            "source": "**1. Geographic coordinate of ten potential locations provided by owners**\n\nCan use Google Map API to find this information. The followings are latitude and longitude of the locations:"
        },
        {
            "cell_type": "markdown",
            "metadata": {},
            "source": "`40\u00b047'27.9\"N 73\u00b058'36.1\"W (40.791071, -73.976688)`\n\n`40\u00b047'07.7\"N 73\u00b058'17.2\"W (40.785467, -73.971430)`\n\n`40\u00b046'12.5\"N 73\u00b057'55.7\"W (40.770130, -73.965475)`\n\n`40\u00b044'09.2\"N 73\u00b059'34.9\"W (40.735875, -73.993038)`\n\n`40\u00b043'17.5\"N 73\u00b059'23.8\"W (40.721538, -73.989950)`\n\n`40\u00b044'14.9\"N 73\u00b059'08.3\"W (40.737472, -73.985639)`\n\n`40\u00b043'28.5\"N 73\u00b057'25.0\"W (40.724593, -73.956946)`\n\n`40\u00b044'42.0\"N 73\u00b055'01.7\"W (40.745007, -73.917143)`\n\n`40\u00b045'16.7\"N 73\u00b049'49.3\"W (40.754648, -73.830361)`\n\n`40\u00b047'53.4\"N 73\u00b057'41.1\"W (40.798167, -73.961420)`"
        },
        {
            "cell_type": "markdown",
            "metadata": {},
            "source": "**2. Public transportation facility: Bus Stop and Metro Station** \n\nThe recommended branch location needs to have convenient public transportation. These data can be found by using FourSquare API to find these venues around the location. The radius of exploration distance is set to 500 meters, which is about 5 minutes walking distance."
        },
        {
            "cell_type": "markdown",
            "metadata": {},
            "source": "**3. Current geographic coordinate of existing Xi'an Famous Food branches** \n\nCan use Google Map API to find this information.The followings are sample locations:"
        },
        {
            "cell_type": "markdown",
            "metadata": {},
            "source": "*For example:*\n\n*2675 Broadway, New York, NY 10025 `40\u00b048'03.1\"N 73\u00b058'08.3\"W (40.800869, -73.968974)`*\n\n*37 W 54th St, New York, NY 10019 `40\u00b045'56.3\"N 73\u00b058'38.0\"W (40.765634, -73.977213)`*\n\n......\n"
        },
        {
            "cell_type": "markdown",
            "metadata": {},
            "source": "## Methodology"
        },
        {
            "cell_type": "markdown",
            "metadata": {},
            "source": "* Mark potential locations of new Xi'an Famous Food branch as value **POTE**"
        },
        {
            "cell_type": "code",
            "execution_count": 62,
            "metadata": {},
            "outputs": [
                {
                    "data": {
                        "text/html": "<div>\n<style scoped>\n    .dataframe tbody tr th:only-of-type {\n        vertical-align: middle;\n    }\n\n    .dataframe tbody tr th {\n        vertical-align: top;\n    }\n\n    .dataframe thead th {\n        text-align: right;\n    }\n</style>\n<table border=\"1\" class=\"dataframe\">\n  <thead>\n    <tr style=\"text-align: right;\">\n      <th></th>\n      <th>latitude</th>\n      <th>longitude</th>\n    </tr>\n  </thead>\n  <tbody>\n    <tr>\n      <th>0</th>\n      <td>40.791071</td>\n      <td>-73.976688</td>\n    </tr>\n    <tr>\n      <th>1</th>\n      <td>40.785467</td>\n      <td>-73.971430</td>\n    </tr>\n    <tr>\n      <th>2</th>\n      <td>40.770130</td>\n      <td>-73.965475</td>\n    </tr>\n    <tr>\n      <th>3</th>\n      <td>40.735875</td>\n      <td>-73.993038</td>\n    </tr>\n    <tr>\n      <th>4</th>\n      <td>40.721538</td>\n      <td>-73.989950</td>\n    </tr>\n    <tr>\n      <th>5</th>\n      <td>40.737472</td>\n      <td>-73.985639</td>\n    </tr>\n    <tr>\n      <th>6</th>\n      <td>40.724593</td>\n      <td>-73.956946</td>\n    </tr>\n    <tr>\n      <th>7</th>\n      <td>40.745007</td>\n      <td>-73.917143</td>\n    </tr>\n    <tr>\n      <th>8</th>\n      <td>40.754648</td>\n      <td>-73.830361</td>\n    </tr>\n    <tr>\n      <th>9</th>\n      <td>40.798167</td>\n      <td>-73.961420</td>\n    </tr>\n  </tbody>\n</table>\n</div>",
                        "text/plain": "    latitude  longitude\n0  40.791071 -73.976688\n1  40.785467 -73.971430\n2  40.770130 -73.965475\n3  40.735875 -73.993038\n4  40.721538 -73.989950\n5  40.737472 -73.985639\n6  40.724593 -73.956946\n7  40.745007 -73.917143\n8  40.754648 -73.830361\n9  40.798167 -73.961420"
                    },
                    "metadata": {},
                    "output_type": "display_data"
                }
            ],
            "source": "display(POTE)"
        },
        {
            "cell_type": "markdown",
            "metadata": {},
            "source": "* Mark existing locations of Xi'an Famous Food branches as value **EXIS**"
        },
        {
            "cell_type": "code",
            "execution_count": 80,
            "metadata": {},
            "outputs": [
                {
                    "data": {
                        "text/html": "<div>\n<style scoped>\n    .dataframe tbody tr th:only-of-type {\n        vertical-align: middle;\n    }\n\n    .dataframe tbody tr th {\n        vertical-align: top;\n    }\n\n    .dataframe thead th {\n        text-align: right;\n    }\n</style>\n<table border=\"1\" class=\"dataframe\">\n  <thead>\n    <tr style=\"text-align: right;\">\n      <th></th>\n      <th>Address</th>\n      <th>latitude</th>\n      <th>longitude</th>\n    </tr>\n  </thead>\n  <tbody>\n    <tr>\n      <th>0</th>\n      <td>61-41 Main St Flushing</td>\n      <td>40.741894</td>\n      <td>-73.825248</td>\n    </tr>\n    <tr>\n      <th>1</th>\n      <td>34-48 56th St</td>\n      <td>40.75124</td>\n      <td>-73.906396</td>\n    </tr>\n    <tr>\n      <th>2</th>\n      <td>658 Manhattan Ave</td>\n      <td>40.724601</td>\n      <td>-73.950865</td>\n    </tr>\n    <tr>\n      <th>3</th>\n      <td>55-79 Kenmare St</td>\n      <td>40.721092</td>\n      <td>-73.996262</td>\n    </tr>\n    <tr>\n      <th>4</th>\n      <td>32-46 E 23rd St</td>\n      <td>40.740623</td>\n      <td>-73.987408</td>\n    </tr>\n    <tr>\n      <th>5</th>\n      <td>10 E 34th St</td>\n      <td>40.748152</td>\n      <td>-73.983962</td>\n    </tr>\n    <tr>\n      <th>6</th>\n      <td>24 W 45th St</td>\n      <td>40.755983</td>\n      <td>-73.980909</td>\n    </tr>\n    <tr>\n      <th>7</th>\n      <td>37 W 54th St</td>\n      <td>40.762362</td>\n      <td>-73.977283</td>\n    </tr>\n    <tr>\n      <th>8</th>\n      <td>328 E 78th St</td>\n      <td>40.772222</td>\n      <td>-73.954493</td>\n    </tr>\n    <tr>\n      <th>9</th>\n      <td>2765 Broadway</td>\n      <td>40.802071</td>\n      <td>-73.96817</td>\n    </tr>\n    <tr>\n      <th>10</th>\n      <td>81 St Marks Pl</td>\n      <td>40.7281</td>\n      <td>-73.985502</td>\n    </tr>\n    <tr>\n      <th>11</th>\n      <td>45 Bayard St</td>\n      <td>40.715257</td>\n      <td>-73.997307</td>\n    </tr>\n    <tr>\n      <th>12</th>\n      <td>313 6th Ave,</td>\n      <td>40.731212</td>\n      <td>-74.001927</td>\n    </tr>\n  </tbody>\n</table>\n</div>",
                        "text/plain": "                   Address   latitude   longitude\n0   61-41 Main St Flushing  40.741894  -73.825248\n1            34-48 56th St   40.75124  -73.906396\n2        658 Manhattan Ave  40.724601  -73.950865\n3         55-79 Kenmare St  40.721092  -73.996262\n4          32-46 E 23rd St  40.740623  -73.987408\n5             10 E 34th St  40.748152  -73.983962\n6             24 W 45th St  40.755983  -73.980909\n7             37 W 54th St  40.762362  -73.977283\n8            328 E 78th St  40.772222  -73.954493\n9            2765 Broadway  40.802071   -73.96817\n10          81 St Marks Pl    40.7281  -73.985502\n11            45 Bayard St  40.715257  -73.997307\n12            313 6th Ave,  40.731212  -74.001927"
                    },
                    "metadata": {},
                    "output_type": "display_data"
                }
            ],
            "source": "#Show existing Xi'an Famous Food branches\ndisplay(EXIS)"
        },
        {
            "cell_type": "markdown",
            "metadata": {},
            "source": "* Set potential locations **POTE** as center, radius as 500 m (5 minutes walk distance), scan if **there is bus stop or metro station within 500 m** from the potential marks. Delete locations that does not qualify the condition. Save locations that qualify the condition as **POTE_FIT**."
        },
        {
            "cell_type": "code",
            "execution_count": 84,
            "metadata": {},
            "outputs": [
                {
                    "data": {
                        "text/html": "<div>\n<style scoped>\n    .dataframe tbody tr th:only-of-type {\n        vertical-align: middle;\n    }\n\n    .dataframe tbody tr th {\n        vertical-align: top;\n    }\n\n    .dataframe thead th {\n        text-align: right;\n    }\n</style>\n<table border=\"1\" class=\"dataframe\">\n  <thead>\n    <tr style=\"text-align: right;\">\n      <th></th>\n      <th>latitude</th>\n      <th>longitude</th>\n    </tr>\n  </thead>\n  <tbody>\n    <tr>\n      <th>0</th>\n      <td>40.791071</td>\n      <td>-73.976688</td>\n    </tr>\n    <tr>\n      <th>1</th>\n      <td>40.735875</td>\n      <td>-73.993038</td>\n    </tr>\n    <tr>\n      <th>2</th>\n      <td>40.721538</td>\n      <td>-73.989950</td>\n    </tr>\n    <tr>\n      <th>3</th>\n      <td>40.724593</td>\n      <td>-73.956946</td>\n    </tr>\n    <tr>\n      <th>4</th>\n      <td>40.798167</td>\n      <td>-73.961420</td>\n    </tr>\n  </tbody>\n</table>\n</div>",
                        "text/plain": "    latitude  longitude\n0  40.791071 -73.976688\n1  40.735875 -73.993038\n2  40.721538 -73.989950\n3  40.724593 -73.956946\n4  40.798167 -73.961420"
                    },
                    "metadata": {},
                    "output_type": "display_data"
                }
            ],
            "source": "display(POTE_FIT)"
        },
        {
            "cell_type": "markdown",
            "metadata": {},
            "source": "* Set existing locations **EXIS** as center, radius as 500 m. Scan if **POTE_FIT** is more than 500 m from the **EXIS**. Save qualified locations as **POTE_FIT2**"
        },
        {
            "cell_type": "code",
            "execution_count": 86,
            "metadata": {},
            "outputs": [
                {
                    "data": {
                        "text/html": "<div>\n<style scoped>\n    .dataframe tbody tr th:only-of-type {\n        vertical-align: middle;\n    }\n\n    .dataframe tbody tr th {\n        vertical-align: top;\n    }\n\n    .dataframe thead th {\n        text-align: right;\n    }\n</style>\n<table border=\"1\" class=\"dataframe\">\n  <thead>\n    <tr style=\"text-align: right;\">\n      <th></th>\n      <th>latitude</th>\n      <th>longitude</th>\n    </tr>\n  </thead>\n  <tbody>\n    <tr>\n      <th>0</th>\n      <td>40.735875</td>\n      <td>-73.993038</td>\n    </tr>\n    <tr>\n      <th>1</th>\n      <td>40.724593</td>\n      <td>-73.956946</td>\n    </tr>\n  </tbody>\n</table>\n</div>",
                        "text/plain": "    latitude  longitude\n0  40.735875 -73.993038\n1  40.724593 -73.956946"
                    },
                    "metadata": {},
                    "output_type": "display_data"
                }
            ],
            "source": "display(POTE_FIT2)"
        },
        {
            "cell_type": "markdown",
            "metadata": {},
            "source": "* The potential locations are shown as **(POTE_FIT2)**"
        },
        {
            "cell_type": "markdown",
            "metadata": {},
            "source": "## Result"
        },
        {
            "cell_type": "markdown",
            "metadata": {},
            "source": "We found two locations match clients' need from the potential ten locations."
        },
        {
            "cell_type": "markdown",
            "metadata": {},
            "source": "The addresses, latitude and longitude for two locations:\n\n`69 5th Ave(40.735875, -73.993038)`\n\n`9 N 15th St, (40.724593, -73.956946)`"
        },
        {
            "cell_type": "markdown",
            "metadata": {},
            "source": "## Discussion"
        },
        {
            "cell_type": "markdown",
            "metadata": {},
            "source": "In this project, our goal is to help clients to choose the best location for new branch of Xi'an Famous Food. In this case, we do not need to consider the price for rental, which simplies the problem.\n\nThe only two factors we need to consider are:\n\n1. The convience of transportation -- 5 minutes walk to bus station or metro station (we set it as 500 m).\n\n2. The distance of new branch from existing branches -- must be more than 500 m.\n\nWe have ten potential locations provided by clients. We found two of them match the condition above, which we can recommend to our clients."
        },
        {
            "cell_type": "markdown",
            "metadata": {},
            "source": "## Conclusion"
        },
        {
            "cell_type": "markdown",
            "metadata": {},
            "source": "We can recommend our clients with two potential locations for new branch:\n\n`69 5th Ave` and `9 N 15th St`."
        },
        {
            "cell_type": "markdown",
            "metadata": {},
            "source": "**Reference**"
        },
        {
            "cell_type": "markdown",
            "metadata": {},
            "source": "[1] History of Xi'an Famous Foods https://www.xianfoods.com/about"
        }
    ],
    "metadata": {
        "kernelspec": {
            "display_name": "Python 3.6",
            "language": "python",
            "name": "python3"
        },
        "language_info": {
            "codemirror_mode": {
                "name": "ipython",
                "version": 3
            },
            "file_extension": ".py",
            "mimetype": "text/x-python",
            "name": "python",
            "nbconvert_exporter": "python",
            "pygments_lexer": "ipython3",
            "version": "3.6.9"
        }
    },
    "nbformat": 4,
    "nbformat_minor": 1
}