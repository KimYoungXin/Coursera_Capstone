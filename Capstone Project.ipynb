{
    "cells": [
        {
            "metadata": {
                "collapsed": true
            },
            "cell_type": "markdown",
            "source": "# Capstone Project - The Battle of Neighborhoods"
        },
        {
            "metadata": {},
            "cell_type": "markdown",
            "source": "## Introduction"
        },
        {
            "metadata": {},
            "cell_type": "markdown",
            "source": "**Description of the problem** Find best location in New York to open a new branch of Xi'an Famous Foods.The owners of Xi'an Famous Foods wants to open a new branch. \n\nThey provided **10 potential locations**. Price for rental is not their concern. They consider transportation as the most important factor. \n\nRequirements:\n1. Customers should walk to Xi'an Famous Foods within **5 minutes from public transport facilities**. \n2. The new branch should have **at least 500 m distance away from existing ones**. \n\n**Background** Xi'an Famous Food began as a 200 square foot basement stall in the Golden Shopping Mall in Flushing, N.Y. The original location, established in late 2005, was the first restaurant to bring the little-known cuisine of Xi\u2019an to the United States, with signature hand-ripped noodles, secret spice mixes, and Xi\u2019an \u201cburgers\u201d with housemade flatbread. Since then, we\u2019ve expanded to multiple locations in New York\u2019s Manhattan, Brooklyn, and Queens boroughs. [1]"
        },
        {
            "metadata": {},
            "cell_type": "markdown",
            "source": "## Data"
        },
        {
            "metadata": {},
            "cell_type": "markdown",
            "source": "**1. Geographic coordinate of ten potential locations provided by owners**\n\nCan use Google Map API to find this information. The followings are latitude and longitude of the locations:"
        },
        {
            "metadata": {},
            "cell_type": "markdown",
            "source": "`40\u00b047'27.9\"N 73\u00b058'36.1\"W (40.791071, -73.976688)`\n\n`40\u00b047'07.7\"N 73\u00b058'17.2\"W (40.785467, -73.971430)`\n\n`40\u00b046'12.5\"N 73\u00b057'55.7\"W (40.770130, -73.965475)`\n\n`40\u00b044'09.2\"N 73\u00b059'34.9\"W (40.735875, -73.993038)`\n\n`40\u00b043'17.5\"N 73\u00b059'23.8\"W (40.721538, -73.989950)`\n\n`40\u00b044'14.9\"N 73\u00b059'08.3\"W (40.737472, -73.985639)`\n\n`40\u00b043'28.5\"N 73\u00b057'25.0\"W (40.724593, -73.956946)`\n\n`40\u00b044'42.0\"N 73\u00b055'01.7\"W (40.745007, -73.917143)`\n\n`40\u00b045'16.7\"N 73\u00b049'49.3\"W (40.754648, -73.830361)`\n\n`40\u00b047'53.4\"N 73\u00b057'41.1\"W (40.798167, -73.961420)`"
        },
        {
            "metadata": {},
            "cell_type": "markdown",
            "source": "**2. Public transportation facility: Bus Stop and Metro Station** \n\nThe recommended branch location needs to have convenient public transportation. These data can be found by using FourSquare API to find these venues around the location. The radius of exploration distance is set to 500 meters, which is about 5 minutes walking distance."
        },
        {
            "metadata": {},
            "cell_type": "markdown",
            "source": "**3. Current geographic coordinate of existing Xi'an Famous Food branches** \n\nCan use Google Map API to find this information.The followings are sample locations:"
        },
        {
            "metadata": {},
            "cell_type": "markdown",
            "source": "*For example:*\n\n*2675 Broadway, New York, NY 10025 `40\u00b048'03.1\"N 73\u00b058'08.3\"W (40.800869, -73.968974)`*\n\n*37 W 54th St, New York, NY 10019 `40\u00b045'56.3\"N 73\u00b058'38.0\"W (40.765634, -73.977213)`*\n\n......\n"
        },
        {
            "metadata": {},
            "cell_type": "markdown",
            "source": "## Methodology"
        },
        {
            "metadata": {},
            "cell_type": "markdown",
            "source": "1. Mark potential locations of new Xi'an Famous Food branch as value **POTE**"
        },
        {
            "metadata": {},
            "cell_type": "code",
            "source": "# Import necessary library\nimport json\nimport pandas as pd\nimport numpy as np",
            "execution_count": 50,
            "outputs": []
        },
        {
            "metadata": {},
            "cell_type": "code",
            "source": "# Install gmaps\n!pip install gmaps",
            "execution_count": 26,
            "outputs": [
                {
                    "output_type": "stream",
                    "text": "Collecting gmaps\n\u001b[?25l  Downloading https://files.pythonhosted.org/packages/4c/aa/4e659d3ab6efe55c265d8159c845e9168e4c79045aef8e5460f9511cc3a7/gmaps-0.9.0.tar.gz (1.1MB)\n\u001b[K     |\u2588\u2588\u2588\u2588\u2588\u2588\u2588\u2588\u2588\u2588\u2588\u2588\u2588\u2588\u2588\u2588\u2588\u2588\u2588\u2588\u2588\u2588\u2588\u2588\u2588\u2588\u2588\u2588\u2588\u2588\u2588\u2588| 1.1MB 17.5MB/s eta 0:00:01\n\u001b[?25hRequirement already satisfied: ipython>=5.3.0 in /opt/conda/envs/Python36/lib/python3.6/site-packages (from gmaps) (7.2.0)\nRequirement already satisfied: ipywidgets>=7.0.0 in /opt/conda/envs/Python36/lib/python3.6/site-packages (from gmaps) (7.4.2)\nRequirement already satisfied: traitlets>=4.3.0 in /opt/conda/envs/Python36/lib/python3.6/site-packages (from gmaps) (4.3.2)\nRequirement already satisfied: geojson>=2.0.0 in /opt/conda/envs/Python36/lib/python3.6/site-packages (from gmaps) (2.4.1)\nRequirement already satisfied: six in /opt/conda/envs/Python36/lib/python3.6/site-packages (from gmaps) (1.12.0)\nRequirement already satisfied: decorator in /opt/conda/envs/Python36/lib/python3.6/site-packages (from ipython>=5.3.0->gmaps) (4.3.2)\nRequirement already satisfied: jedi>=0.10 in /opt/conda/envs/Python36/lib/python3.6/site-packages (from ipython>=5.3.0->gmaps) (0.13.2)\nRequirement already satisfied: prompt-toolkit<2.1.0,>=2.0.0 in /opt/conda/envs/Python36/lib/python3.6/site-packages (from ipython>=5.3.0->gmaps) (2.0.8)\nRequirement already satisfied: pexpect; sys_platform != \"win32\" in /opt/conda/envs/Python36/lib/python3.6/site-packages (from ipython>=5.3.0->gmaps) (4.6.0)\nRequirement already satisfied: pygments in /opt/conda/envs/Python36/lib/python3.6/site-packages (from ipython>=5.3.0->gmaps) (2.3.1)\nRequirement already satisfied: pickleshare in /opt/conda/envs/Python36/lib/python3.6/site-packages (from ipython>=5.3.0->gmaps) (0.7.5)\nRequirement already satisfied: setuptools>=18.5 in /opt/conda/envs/Python36/lib/python3.6/site-packages (from ipython>=5.3.0->gmaps) (40.8.0)\nRequirement already satisfied: backcall in /opt/conda/envs/Python36/lib/python3.6/site-packages (from ipython>=5.3.0->gmaps) (0.1.0)\nRequirement already satisfied: widgetsnbextension~=3.4.0 in /opt/conda/envs/Python36/lib/python3.6/site-packages (from ipywidgets>=7.0.0->gmaps) (3.4.2)\nRequirement already satisfied: ipykernel>=4.5.1 in /opt/conda/envs/Python36/lib/python3.6/site-packages (from ipywidgets>=7.0.0->gmaps) (5.1.0)\nRequirement already satisfied: nbformat>=4.2.0 in /opt/conda/envs/Python36/lib/python3.6/site-packages (from ipywidgets>=7.0.0->gmaps) (4.4.0)\nRequirement already satisfied: ipython-genutils in /opt/conda/envs/Python36/lib/python3.6/site-packages (from traitlets>=4.3.0->gmaps) (0.2.0)\nRequirement already satisfied: parso>=0.3.0 in /opt/conda/envs/Python36/lib/python3.6/site-packages (from jedi>=0.10->ipython>=5.3.0->gmaps) (0.3.2)\nRequirement already satisfied: wcwidth in /opt/conda/envs/Python36/lib/python3.6/site-packages (from prompt-toolkit<2.1.0,>=2.0.0->ipython>=5.3.0->gmaps) (0.1.7)\nRequirement already satisfied: ptyprocess>=0.5 in /opt/conda/envs/Python36/lib/python3.6/site-packages (from pexpect; sys_platform != \"win32\"->ipython>=5.3.0->gmaps) (0.6.0)\nRequirement already satisfied: notebook>=4.4.1 in /opt/conda/envs/Python36/lib/python3.6/site-packages (from widgetsnbextension~=3.4.0->ipywidgets>=7.0.0->gmaps) (5.7.8)\nRequirement already satisfied: tornado>=4.2 in /opt/conda/envs/Python36/lib/python3.6/site-packages (from ipykernel>=4.5.1->ipywidgets>=7.0.0->gmaps) (5.1.1)\nRequirement already satisfied: jupyter-client in /opt/conda/envs/Python36/lib/python3.6/site-packages (from ipykernel>=4.5.1->ipywidgets>=7.0.0->gmaps) (5.2.4)\nRequirement already satisfied: jsonschema!=2.5.0,>=2.4 in /opt/conda/envs/Python36/lib/python3.6/site-packages (from nbformat>=4.2.0->ipywidgets>=7.0.0->gmaps) (2.6.0)\nRequirement already satisfied: jupyter-core in /opt/conda/envs/Python36/lib/python3.6/site-packages (from nbformat>=4.2.0->ipywidgets>=7.0.0->gmaps) (4.4.0)\nRequirement already satisfied: nbconvert in /opt/conda/envs/Python36/lib/python3.6/site-packages (from notebook>=4.4.1->widgetsnbextension~=3.4.0->ipywidgets>=7.0.0->gmaps) (5.4.0)\nRequirement already satisfied: terminado>=0.8.1 in /opt/conda/envs/Python36/lib/python3.6/site-packages (from notebook>=4.4.1->widgetsnbextension~=3.4.0->ipywidgets>=7.0.0->gmaps) (0.8.1)\nRequirement already satisfied: pyzmq>=17 in /opt/conda/envs/Python36/lib/python3.6/site-packages (from notebook>=4.4.1->widgetsnbextension~=3.4.0->ipywidgets>=7.0.0->gmaps) (17.1.2)\nRequirement already satisfied: jinja2 in /opt/conda/envs/Python36/lib/python3.6/site-packages (from notebook>=4.4.1->widgetsnbextension~=3.4.0->ipywidgets>=7.0.0->gmaps) (2.10)\nRequirement already satisfied: prometheus-client in /opt/conda/envs/Python36/lib/python3.6/site-packages (from notebook>=4.4.1->widgetsnbextension~=3.4.0->ipywidgets>=7.0.0->gmaps) (0.5.0)\nRequirement already satisfied: Send2Trash in /opt/conda/envs/Python36/lib/python3.6/site-packages (from notebook>=4.4.1->widgetsnbextension~=3.4.0->ipywidgets>=7.0.0->gmaps) (1.5.0)\nRequirement already satisfied: python-dateutil>=2.1 in /opt/conda/envs/Python36/lib/python3.6/site-packages (from jupyter-client->ipykernel>=4.5.1->ipywidgets>=7.0.0->gmaps) (2.7.5)\nRequirement already satisfied: mistune>=0.8.1 in /opt/conda/envs/Python36/lib/python3.6/site-packages (from nbconvert->notebook>=4.4.1->widgetsnbextension~=3.4.0->ipywidgets>=7.0.0->gmaps) (0.8.4)\nRequirement already satisfied: entrypoints>=0.2.2 in /opt/conda/envs/Python36/lib/python3.6/site-packages (from nbconvert->notebook>=4.4.1->widgetsnbextension~=3.4.0->ipywidgets>=7.0.0->gmaps) (0.3)\nRequirement already satisfied: bleach in /opt/conda/envs/Python36/lib/python3.6/site-packages (from nbconvert->notebook>=4.4.1->widgetsnbextension~=3.4.0->ipywidgets>=7.0.0->gmaps) (3.1.0)\nRequirement already satisfied: pandocfilters>=1.4.1 in /opt/conda/envs/Python36/lib/python3.6/site-packages (from nbconvert->notebook>=4.4.1->widgetsnbextension~=3.4.0->ipywidgets>=7.0.0->gmaps) (1.4.2)\nRequirement already satisfied: testpath in /opt/conda/envs/Python36/lib/python3.6/site-packages (from nbconvert->notebook>=4.4.1->widgetsnbextension~=3.4.0->ipywidgets>=7.0.0->gmaps) (0.4.2)\nRequirement already satisfied: defusedxml in /opt/conda/envs/Python36/lib/python3.6/site-packages (from nbconvert->notebook>=4.4.1->widgetsnbextension~=3.4.0->ipywidgets>=7.0.0->gmaps) (0.5.0)\nRequirement already satisfied: MarkupSafe>=0.23 in /opt/conda/envs/Python36/lib/python3.6/site-packages (from jinja2->notebook>=4.4.1->widgetsnbextension~=3.4.0->ipywidgets>=7.0.0->gmaps) (1.1.0)\nRequirement already satisfied: webencodings in /opt/conda/envs/Python36/lib/python3.6/site-packages (from bleach->nbconvert->notebook>=4.4.1->widgetsnbextension~=3.4.0->ipywidgets>=7.0.0->gmaps) (0.5.1)\nBuilding wheels for collected packages: gmaps\n  Building wheel for gmaps (setup.py) ... \u001b[?25ldone\n\u001b[?25h  Stored in directory: /home/dsxuser/.cache/pip/wheels/33/eb/41/5302168c36fc8ce8f48143bb58fde1015d5bc0c62bc3ddbb38\nSuccessfully built gmaps\nInstalling collected packages: gmaps\nSuccessfully installed gmaps-0.9.0\n",
                    "name": "stdout"
                }
            ]
        },
        {
            "metadata": {},
            "cell_type": "code",
            "source": "# import gmaps package \nimport gmaps ",
            "execution_count": 87,
            "outputs": []
        },
        {
            "metadata": {},
            "cell_type": "code",
            "source": "gmaps.configure(api_key='AI...')\n\nfig = gmaps.figure(map_type='SATELLITE')\n\n# generate some (latitude, longitude) pairs\nnew_york_coordinates = (40.75, -74.00)\n\nheatmap_layer = gmaps.heatmap_layer(locations)\nfig.add_layer(heatmap_layer)\nfig",
            "execution_count": 44,
            "outputs": [
                {
                    "output_type": "display_data",
                    "data": {
                        "text/plain": "Figure(layout=FigureLayout(height='420px'))",
                        "application/vnd.jupyter.widget-view+json": {
                            "version_major": 2,
                            "version_minor": 0,
                            "model_id": "c03bd3e12194463a84c3b094c3a87a87"
                        }
                    },
                    "metadata": {}
                }
            ]
        },
        {
            "metadata": {},
            "cell_type": "code",
            "source": "gmaps.configure(api_key='AI...')\n\nfigure_layout = {\n    'width': '400px',\n    'height': '400px',\n    'border': '1px solid black',\n    'padding': '1px'\n}\ngmaps.figure(layout=figure_layout)",
            "execution_count": 45,
            "outputs": [
                {
                    "output_type": "display_data",
                    "data": {
                        "text/plain": "Figure(layout=FigureLayout(border='1px solid black', height='400px', padding='1px', width='400px'))",
                        "application/vnd.jupyter.widget-view+json": {
                            "version_major": 2,
                            "version_minor": 0,
                            "model_id": "e12eb74851e14e48bb84383919c5bf96"
                        }
                    },
                    "metadata": {}
                }
            ]
        },
        {
            "metadata": {},
            "cell_type": "code",
            "source": "new_york_coordinates = (40.75, -74.00)\ngmaps.figure(center=new_york_coordinates, zoom_level=12)",
            "execution_count": 46,
            "outputs": [
                {
                    "output_type": "display_data",
                    "data": {
                        "text/plain": "Figure(layout=FigureLayout(height='420px'))",
                        "application/vnd.jupyter.widget-view+json": {
                            "version_major": 2,
                            "version_minor": 0,
                            "model_id": "1c99d4864d8d4e7b81d1ca4ec53aa379"
                        }
                    },
                    "metadata": {}
                }
            ]
        },
        {
            "metadata": {},
            "cell_type": "code",
            "source": "#input potential locations into panda dataframe as POTE\nPOTE = pd.DataFrame(np.array(\n       [ [ 40.791071, -73.976688 ],\n         [ 40.785467, -73.971430 ],\n         [ 40.770130, -73.965475 ],\n         [ 40.735875, -73.993038 ],\n         [ 40.721538, -73.989950 ],\n         [ 40.737472, -73.985639 ],\n         [ 40.724593, -73.956946 ],\n         [ 40.745007, -73.917143 ],\n         [ 40.754648, -73.830361 ],\n         [ 40.798167, -73.961420 ],\n       ]), columns = ['latitude','longitude'])",
            "execution_count": 61,
            "outputs": []
        },
        {
            "metadata": {},
            "cell_type": "code",
            "source": "display(POTE)",
            "execution_count": 62,
            "outputs": [
                {
                    "output_type": "display_data",
                    "data": {
                        "text/plain": "    latitude  longitude\n0  40.791071 -73.976688\n1  40.785467 -73.971430\n2  40.770130 -73.965475\n3  40.735875 -73.993038\n4  40.721538 -73.989950\n5  40.737472 -73.985639\n6  40.724593 -73.956946\n7  40.745007 -73.917143\n8  40.754648 -73.830361\n9  40.798167 -73.961420",
                        "text/html": "<div>\n<style scoped>\n    .dataframe tbody tr th:only-of-type {\n        vertical-align: middle;\n    }\n\n    .dataframe tbody tr th {\n        vertical-align: top;\n    }\n\n    .dataframe thead th {\n        text-align: right;\n    }\n</style>\n<table border=\"1\" class=\"dataframe\">\n  <thead>\n    <tr style=\"text-align: right;\">\n      <th></th>\n      <th>latitude</th>\n      <th>longitude</th>\n    </tr>\n  </thead>\n  <tbody>\n    <tr>\n      <th>0</th>\n      <td>40.791071</td>\n      <td>-73.976688</td>\n    </tr>\n    <tr>\n      <th>1</th>\n      <td>40.785467</td>\n      <td>-73.971430</td>\n    </tr>\n    <tr>\n      <th>2</th>\n      <td>40.770130</td>\n      <td>-73.965475</td>\n    </tr>\n    <tr>\n      <th>3</th>\n      <td>40.735875</td>\n      <td>-73.993038</td>\n    </tr>\n    <tr>\n      <th>4</th>\n      <td>40.721538</td>\n      <td>-73.989950</td>\n    </tr>\n    <tr>\n      <th>5</th>\n      <td>40.737472</td>\n      <td>-73.985639</td>\n    </tr>\n    <tr>\n      <th>6</th>\n      <td>40.724593</td>\n      <td>-73.956946</td>\n    </tr>\n    <tr>\n      <th>7</th>\n      <td>40.745007</td>\n      <td>-73.917143</td>\n    </tr>\n    <tr>\n      <th>8</th>\n      <td>40.754648</td>\n      <td>-73.830361</td>\n    </tr>\n    <tr>\n      <th>9</th>\n      <td>40.798167</td>\n      <td>-73.961420</td>\n    </tr>\n  </tbody>\n</table>\n</div>"
                    },
                    "metadata": {}
                }
            ]
        },
        {
            "metadata": {},
            "cell_type": "markdown",
            "source": "2. Mark existing locations of Xi'an Famous Food branches as value **EXIS**"
        },
        {
            "metadata": {},
            "cell_type": "code",
            "source": "# Get the latitude, longitude of Xi'an Famous Food.\n# Using Python requests and the Google Maps Geocoding API.\n\nimport requests\n\nGOOGLE_MAPS_API_URL = 'http://maps.googleapis.com/maps/api/geocode/json'\n\nparams = {\n    'address': 'Xian Famous Food',\n    'sensor': 'false',\n    'region': 'america'\n}\n\n# Do the request and get the response data\nreq = requests.get(GOOGLE_MAPS_API_URL, params=params)\nres = req.json()\n\nEXIS = params()",
            "execution_count": 69,
            "outputs": []
        },
        {
            "metadata": {},
            "cell_type": "code",
            "source": "#Show existing Xi'an Famous Food branches\ndisplay(EXIS)",
            "execution_count": 80,
            "outputs": [
                {
                    "output_type": "display_data",
                    "data": {
                        "text/plain": "                   Address   latitude   longitude\n0   61-41 Main St Flushing  40.741894  -73.825248\n1            34-48 56th St   40.75124  -73.906396\n2        658 Manhattan Ave  40.724601  -73.950865\n3         55-79 Kenmare St  40.721092  -73.996262\n4          32-46 E 23rd St  40.740623  -73.987408\n5             10 E 34th St  40.748152  -73.983962\n6             24 W 45th St  40.755983  -73.980909\n7             37 W 54th St  40.762362  -73.977283\n8            328 E 78th St  40.772222  -73.954493\n9            2765 Broadway  40.802071   -73.96817\n10          81 St Marks Pl    40.7281  -73.985502\n11            45 Bayard St  40.715257  -73.997307\n12            313 6th Ave,  40.731212  -74.001927",
                        "text/html": "<div>\n<style scoped>\n    .dataframe tbody tr th:only-of-type {\n        vertical-align: middle;\n    }\n\n    .dataframe tbody tr th {\n        vertical-align: top;\n    }\n\n    .dataframe thead th {\n        text-align: right;\n    }\n</style>\n<table border=\"1\" class=\"dataframe\">\n  <thead>\n    <tr style=\"text-align: right;\">\n      <th></th>\n      <th>Address</th>\n      <th>latitude</th>\n      <th>longitude</th>\n    </tr>\n  </thead>\n  <tbody>\n    <tr>\n      <th>0</th>\n      <td>61-41 Main St Flushing</td>\n      <td>40.741894</td>\n      <td>-73.825248</td>\n    </tr>\n    <tr>\n      <th>1</th>\n      <td>34-48 56th St</td>\n      <td>40.75124</td>\n      <td>-73.906396</td>\n    </tr>\n    <tr>\n      <th>2</th>\n      <td>658 Manhattan Ave</td>\n      <td>40.724601</td>\n      <td>-73.950865</td>\n    </tr>\n    <tr>\n      <th>3</th>\n      <td>55-79 Kenmare St</td>\n      <td>40.721092</td>\n      <td>-73.996262</td>\n    </tr>\n    <tr>\n      <th>4</th>\n      <td>32-46 E 23rd St</td>\n      <td>40.740623</td>\n      <td>-73.987408</td>\n    </tr>\n    <tr>\n      <th>5</th>\n      <td>10 E 34th St</td>\n      <td>40.748152</td>\n      <td>-73.983962</td>\n    </tr>\n    <tr>\n      <th>6</th>\n      <td>24 W 45th St</td>\n      <td>40.755983</td>\n      <td>-73.980909</td>\n    </tr>\n    <tr>\n      <th>7</th>\n      <td>37 W 54th St</td>\n      <td>40.762362</td>\n      <td>-73.977283</td>\n    </tr>\n    <tr>\n      <th>8</th>\n      <td>328 E 78th St</td>\n      <td>40.772222</td>\n      <td>-73.954493</td>\n    </tr>\n    <tr>\n      <th>9</th>\n      <td>2765 Broadway</td>\n      <td>40.802071</td>\n      <td>-73.96817</td>\n    </tr>\n    <tr>\n      <th>10</th>\n      <td>81 St Marks Pl</td>\n      <td>40.7281</td>\n      <td>-73.985502</td>\n    </tr>\n    <tr>\n      <th>11</th>\n      <td>45 Bayard St</td>\n      <td>40.715257</td>\n      <td>-73.997307</td>\n    </tr>\n    <tr>\n      <th>12</th>\n      <td>313 6th Ave,</td>\n      <td>40.731212</td>\n      <td>-74.001927</td>\n    </tr>\n  </tbody>\n</table>\n</div>"
                    },
                    "metadata": {}
                }
            ]
        },
        {
            "metadata": {},
            "cell_type": "markdown",
            "source": "3. Set potential locations **POTE** as center, radius as 500 m (5 minutes walk distance), scan if **there is bus stop or metro station within 500 m** from the potential marks. Delete locations that does not qualify the condition. Save locations that qualify the condition as **POTE_FIT**."
        },
        {
            "metadata": {},
            "cell_type": "code",
            "source": "# Install FourSquare client library\n!pip install foursquare",
            "execution_count": 6,
            "outputs": [
                {
                    "output_type": "stream",
                    "text": "Collecting foursquare\n  Downloading https://files.pythonhosted.org/packages/16/c7/d51ecf7e06a75741a61ff752e5e010db8794ec0af01da98f42db7ab64ffe/foursquare-1%212020.1.30-py3-none-any.whl\nRequirement already satisfied: requests>=2.1 in /opt/conda/envs/Python36/lib/python3.6/site-packages (from foursquare) (2.21.0)\nRequirement already satisfied: six in /opt/conda/envs/Python36/lib/python3.6/site-packages (from foursquare) (1.12.0)\nRequirement already satisfied: urllib3<1.25,>=1.21.1 in /opt/conda/envs/Python36/lib/python3.6/site-packages (from requests>=2.1->foursquare) (1.24.1)\nRequirement already satisfied: certifi>=2017.4.17 in /opt/conda/envs/Python36/lib/python3.6/site-packages (from requests>=2.1->foursquare) (2019.11.28)\nRequirement already satisfied: chardet<3.1.0,>=3.0.2 in /opt/conda/envs/Python36/lib/python3.6/site-packages (from requests>=2.1->foursquare) (3.0.4)\nRequirement already satisfied: idna<2.9,>=2.5 in /opt/conda/envs/Python36/lib/python3.6/site-packages (from requests>=2.1->foursquare) (2.8)\nInstalling collected packages: foursquare\nSuccessfully installed foursquare-1!2020.1.30\n",
                    "name": "stdout"
                }
            ]
        },
        {
            "metadata": {},
            "cell_type": "code",
            "source": "import foursquare\nfrom pandas.io.json import json_normalize # tranform JSON file into a pandas dataframe",
            "execution_count": 74,
            "outputs": []
        },
        {
            "metadata": {},
            "cell_type": "code",
            "source": "RADIUS = 500 # 500m, around 5 minutes walking time",
            "execution_count": 70,
            "outputs": []
        },
        {
            "metadata": {},
            "cell_type": "code",
            "source": "def venues_nearby(latitude, longitude, category, verbose=True):    \n    results = fs.venues.search(\n        params = {\n            'query': category, \n            'll': '{},{}'.format(latitude, longitude),\n            'radius': RADIUS,\n            'categoryId': fs_categories[category]\n        }\n    )    \n    POTE_FIT = json_normalize(results['venues'])\n    cols = ['Latitude','Longitude']    \n    if( len(df) == 0 ):        \n        POTE_FIT = pd.DataFrame(columns=cols)\n    else:        \n        POTE_FIT = POTE_FIT[['location.lat','location.lng']]\n        POTE_FIT.columns = cols\n    if( verbose ):\n        print('{} \"{}\" venues are found within {}m of location'.format(len(df), category, RADIUS))\n    return POTE_FIT",
            "execution_count": 73,
            "outputs": []
        },
        {
            "metadata": {},
            "cell_type": "code",
            "source": "POTE_FIT = venues_nearby(POTE['Latitude'], POTE['Longitude'], 'Bus Station', 'Metro Station')",
            "execution_count": null,
            "outputs": []
        },
        {
            "metadata": {},
            "cell_type": "code",
            "source": "display(POTE_FIT)",
            "execution_count": 84,
            "outputs": [
                {
                    "output_type": "display_data",
                    "data": {
                        "text/plain": "    latitude  longitude\n0  40.791071 -73.976688\n1  40.735875 -73.993038\n2  40.721538 -73.989950\n3  40.724593 -73.956946\n4  40.798167 -73.961420",
                        "text/html": "<div>\n<style scoped>\n    .dataframe tbody tr th:only-of-type {\n        vertical-align: middle;\n    }\n\n    .dataframe tbody tr th {\n        vertical-align: top;\n    }\n\n    .dataframe thead th {\n        text-align: right;\n    }\n</style>\n<table border=\"1\" class=\"dataframe\">\n  <thead>\n    <tr style=\"text-align: right;\">\n      <th></th>\n      <th>latitude</th>\n      <th>longitude</th>\n    </tr>\n  </thead>\n  <tbody>\n    <tr>\n      <th>0</th>\n      <td>40.791071</td>\n      <td>-73.976688</td>\n    </tr>\n    <tr>\n      <th>1</th>\n      <td>40.735875</td>\n      <td>-73.993038</td>\n    </tr>\n    <tr>\n      <th>2</th>\n      <td>40.721538</td>\n      <td>-73.989950</td>\n    </tr>\n    <tr>\n      <th>3</th>\n      <td>40.724593</td>\n      <td>-73.956946</td>\n    </tr>\n    <tr>\n      <th>4</th>\n      <td>40.798167</td>\n      <td>-73.961420</td>\n    </tr>\n  </tbody>\n</table>\n</div>"
                    },
                    "metadata": {}
                }
            ]
        },
        {
            "metadata": {},
            "cell_type": "markdown",
            "source": "4. Set existing locations **EXIS** as center, radius as 500 m. Scan if **POTE_FIT** is more than 500 m from the **EXIS**. Save qualified locations as **POTE_FIT2**"
        },
        {
            "metadata": {},
            "cell_type": "code",
            "source": "RADIUS = 500 ",
            "execution_count": 81,
            "outputs": []
        },
        {
            "metadata": {},
            "cell_type": "code",
            "source": "def venues_nearby2(latitude, longitude, category, verbose=True):    \n    results = fs.venues.search(\n        params = {\n            'query': category, \n            'll': '{},{}'.format(latitude, longitude),\n            'radius': RADIUS,\n            'categoryId': fs_categories[category]\n        }\n    )    \n    EXIS = json_normalize(results['venues'])\n    cols = ['Latitude','Longitude']    \n    if( len(EXIS) == 0 ):        \n        EXIS = pd.DataFrame(columns=cols)\n    else:        \n        EXIS = EXIS[['location.lat','location.lng']]\n        EXIS.columns = cols\n    if( verbose ):\n        print('{} \"{}\" venues are found within {}m of location'.format(len(df), category, RADIUS))\n    return EXIS",
            "execution_count": null,
            "outputs": []
        },
        {
            "metadata": {},
            "cell_type": "code",
            "source": "POTE_FIT2 = venues_nearby2(EXIS['Latitude'], EXIS['Longitude'])",
            "execution_count": null,
            "outputs": []
        },
        {
            "metadata": {},
            "cell_type": "code",
            "source": "display(POTE_FIT2)",
            "execution_count": 86,
            "outputs": [
                {
                    "output_type": "display_data",
                    "data": {
                        "text/plain": "    latitude  longitude\n0  40.735875 -73.993038\n1  40.724593 -73.956946",
                        "text/html": "<div>\n<style scoped>\n    .dataframe tbody tr th:only-of-type {\n        vertical-align: middle;\n    }\n\n    .dataframe tbody tr th {\n        vertical-align: top;\n    }\n\n    .dataframe thead th {\n        text-align: right;\n    }\n</style>\n<table border=\"1\" class=\"dataframe\">\n  <thead>\n    <tr style=\"text-align: right;\">\n      <th></th>\n      <th>latitude</th>\n      <th>longitude</th>\n    </tr>\n  </thead>\n  <tbody>\n    <tr>\n      <th>0</th>\n      <td>40.735875</td>\n      <td>-73.993038</td>\n    </tr>\n    <tr>\n      <th>1</th>\n      <td>40.724593</td>\n      <td>-73.956946</td>\n    </tr>\n  </tbody>\n</table>\n</div>"
                    },
                    "metadata": {}
                }
            ]
        },
        {
            "metadata": {},
            "cell_type": "markdown",
            "source": "5. The potential locations are shown as **(POTE_FIT2)**"
        },
        {
            "metadata": {},
            "cell_type": "markdown",
            "source": "## Result"
        },
        {
            "metadata": {},
            "cell_type": "markdown",
            "source": "We found two locations match clients' need from the potential ten locations."
        },
        {
            "metadata": {},
            "cell_type": "markdown",
            "source": "The addresses, latitude and longitude for two locations:\n\n`69 5th Ave(40.735875, -73.993038)`\n\n`9 N 15th St, (40.724593, -73.956946)`"
        },
        {
            "metadata": {},
            "cell_type": "markdown",
            "source": "## Discussion"
        },
        {
            "metadata": {},
            "cell_type": "markdown",
            "source": "In this project, our goal is to help clients to choose the best location for new branch of Xi'an Famous Food. In this case, we do not need to consider the price for rental, which simplies the problem.\n\nThe only two factors we need to consider are:\n\n1. The convience of transportation -- 5 minutes walk to bus station or metro station (we set it as 500 m).\n\n2. The distance of new branch from existing branches -- must be more than 500 m.\n\nWe have ten potential locations provided by clients. We found two of them match the condition above, which we can recommend to our clients."
        },
        {
            "metadata": {},
            "cell_type": "markdown",
            "source": "## Conclusion"
        },
        {
            "metadata": {},
            "cell_type": "markdown",
            "source": "We can recommend our clients with two potential locations for new branch:\n\n`69 5th Ave` and `9 N 15th St`."
        },
        {
            "metadata": {},
            "cell_type": "markdown",
            "source": "**Reference**"
        },
        {
            "metadata": {},
            "cell_type": "markdown",
            "source": "[1] History of Xi'an Famous Foods https://www.xianfoods.com/about"
        }
    ],
    "metadata": {
        "kernelspec": {
            "name": "python3",
            "display_name": "Python 3.6",
            "language": "python"
        },
        "language_info": {
            "name": "python",
            "version": "3.6.9",
            "mimetype": "text/x-python",
            "codemirror_mode": {
                "name": "ipython",
                "version": 3
            },
            "pygments_lexer": "ipython3",
            "nbconvert_exporter": "python",
            "file_extension": ".py"
        }
    },
    "nbformat": 4,
    "nbformat_minor": 1
}