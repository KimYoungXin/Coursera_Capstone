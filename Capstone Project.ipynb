{
    "cells": [
        {
            "metadata": {
                "collapsed": true
            },
            "cell_type": "markdown",
            "source": "# Capstone Project - The Battle of Neighborhoods"
        },
        {
            "metadata": {},
            "cell_type": "markdown",
            "source": "## Introduction"
        },
        {
            "metadata": {},
            "cell_type": "markdown",
            "source": "**Description of the problem** Find best location in New York to open a new branch of Xi'an Famous Foods.The owners of Xi'an Famous Foods wants to open a new branch. \n\nThey provided **ten potential locations**. Price for rental is not their concern. They consider transportation as the most important factor. \n\nRequirements:\n1. Customers should walk to Xi'an Famous Foods within **5 minutes from public transport facilities**. \n2. The new branch should have **at least 500m distance away from existing ones**. \n\n**Background** Xi'an Famous Food began as a 200 square foot basement stall in the Golden Shopping Mall in Flushing, N.Y. The original location, established in late 2005, was the first restaurant to bring the little-known cuisine of Xi\u2019an to the United States, with signature hand-ripped noodles, secret spice mixes, and Xi\u2019an \u201cburgers\u201d with housemade flatbread. Since then, we\u2019ve expanded to multiple locations in New York\u2019s Manhattan, Brooklyn, and Queens boroughs. [1]"
        },
        {
            "metadata": {},
            "cell_type": "markdown",
            "source": "## Data"
        },
        {
            "metadata": {},
            "cell_type": "markdown",
            "source": "**1. Geographic coordinate of ten potential locations provided by owners**\n\nCan use Google Map API to find this information. The followings are latitude and longitude of the locations:"
        },
        {
            "metadata": {},
            "cell_type": "markdown",
            "source": "`40\u00b047'27.9\"N 73\u00b058'36.1\"W (40.791071, -73.976688)`\n\n`40\u00b047'07.7\"N 73\u00b058'17.2\"W (40.785467, -73.971430)`\n\n`40\u00b046'12.5\"N 73\u00b057'55.7\"W (40.770130, -73.965475)`\n\n`40\u00b044'09.2\"N 73\u00b059'34.9\"W (40.735875, -73.993038)`\n\n`40\u00b043'17.5\"N 73\u00b059'23.8\"W (40.721538, -73.989950)`\n\n`40\u00b044'14.9\"N 73\u00b059'08.3\"W (40.737472, -73.985639)`\n\n`40\u00b043'28.5\"N 73\u00b057'25.0\"W (40.724593, -73.956946)`\n\n`40\u00b044'42.0\"N 73\u00b055'01.7\"W (40.745007, -73.917143)`\n\n`40\u00b045'16.7\"N 73\u00b049'49.3\"W (40.754648, -73.830361)`\n\n`40\u00b047'53.4\"N 73\u00b057'41.1\"W (40.798167, -73.961420)`"
        },
        {
            "metadata": {},
            "cell_type": "markdown",
            "source": "**2. Public transportation facility: Bus Stop and Metro Station** \n\nThe recommended branch location needs to have convenient public transportation. These data can be found by using FourSquare API to find these venues around the location. The radius of exploration distance is set to 500 meters, which is about 5 minutes walking distance."
        },
        {
            "metadata": {},
            "cell_type": "markdown",
            "source": "**3. Current geographic coordinate of existing Xi'an Famous Food branches** \n\nCan use Google Map API to find this information.The followings are sample locations:"
        },
        {
            "metadata": {},
            "cell_type": "markdown",
            "source": "*For example:*\n\n*2675 Broadway, New York, NY 10025 `40\u00b048'03.1\"N 73\u00b058'08.3\"W (40.800869, -73.968974)`*\n\n*37 W 54th St, New York, NY 10019 `40\u00b045'56.3\"N 73\u00b058'38.0\"W (40.765634, -73.977213)`*\n\n......\n"
        },
        {
            "metadata": {},
            "cell_type": "markdown",
            "source": "**Reference**"
        },
        {
            "metadata": {},
            "cell_type": "markdown",
            "source": "[1] History of Xi'an Famous Foods https://www.xianfoods.com/about"
        }
    ],
    "metadata": {
        "kernelspec": {
            "name": "python3",
            "display_name": "Python 3.6",
            "language": "python"
        },
        "language_info": {
            "name": "python",
            "version": "3.6.9",
            "mimetype": "text/x-python",
            "codemirror_mode": {
                "name": "ipython",
                "version": 3
            },
            "pygments_lexer": "ipython3",
            "nbconvert_exporter": "python",
            "file_extension": ".py"
        }
    },
    "nbformat": 4,
    "nbformat_minor": 1
}